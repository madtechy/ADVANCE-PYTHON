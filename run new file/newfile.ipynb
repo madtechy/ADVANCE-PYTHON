{
 "cells": [
  {
   "cell_type": "code",
   "execution_count": 2,
   "metadata": {},
   "outputs": [
    {
     "name": "stdout",
     "output_type": "stream",
     "text": [
      "Collecting lxmlNote: you may need to restart the kernel to use updated packages.\n",
      "\n",
      "  Downloading lxml-5.3.0-cp312-cp312-win_amd64.whl.metadata (3.9 kB)\n",
      "Downloading lxml-5.3.0-cp312-cp312-win_amd64.whl (3.8 MB)\n",
      "   ---------------------------------------- 0.0/3.8 MB ? eta -:--:--\n",
      "   ---------------------------------------- 0.0/3.8 MB ? eta -:--:--\n",
      "   ----- ---------------------------------- 0.5/3.8 MB 3.4 MB/s eta 0:00:01\n",
      "   ---------------- ----------------------- 1.6/3.8 MB 4.7 MB/s eta 0:00:01\n",
      "   ------------------------------ --------- 2.9/3.8 MB 5.1 MB/s eta 0:00:01\n",
      "   ---------------------------------------- 3.8/3.8 MB 5.2 MB/s eta 0:00:00\n",
      "Installing collected packages: lxml\n",
      "Successfully installed lxml-5.3.0\n"
     ]
    }
   ],
   "source": [
    "pip install lxml"
   ]
  },
  {
   "cell_type": "code",
   "execution_count": 3,
   "metadata": {},
   "outputs": [
    {
     "data": {
      "text/plain": [
       "0"
      ]
     },
     "execution_count": 3,
     "metadata": {},
     "output_type": "execute_result"
    }
   ],
   "source": [
    "from lxml import etree\n",
    "import os\n",
    "\n",
    "# Load the SMIL content\n",
    "smil_content = \"\"\"\n",
    "<smil>\n",
    "<head>\n",
    "<layout>\n",
    "    <root-layout/>\n",
    "    <region id=\"Text\" top=\"70%\" left=\"0%\" height=\"30%\" width=\"100%\" fit=\"scroll\"/>\n",
    "    <region id=\"Image\" top=\"0%\" left=\"0%\" height=\"70%\" width=\"100%\" fit=\"meet\"/>\n",
    "</layout>\n",
    "</head>\n",
    "<body>\n",
    "<par dur=\"10s\">\n",
    "    <img src=\"handwriti.jpg\" region=\"Image\"/>\n",
    "</par>\n",
    "</body>\n",
    "</smil>\n",
    "\"\"\"\n",
    "\n",
    "# Parse the SMIL content\n",
    "smil_tree = etree.fromstring(smil_content)\n",
    "\n",
    "# Generate an HTML equivalent\n",
    "html_content = f\"\"\"\n",
    "<!DOCTYPE html>\n",
    "<html lang=\"en\">\n",
    "<head>\n",
    "    <style>\n",
    "        body {{\n",
    "            margin: 0;\n",
    "            padding: 0;\n",
    "            display: flex;\n",
    "            flex-direction: column;\n",
    "            justify-content: center;\n",
    "            align-items: center;\n",
    "            height: 100vh;\n",
    "        }}\n",
    "        #Image {{\n",
    "            width: 100%;\n",
    "            height: 70%;\n",
    "            background: url('handwriti.jpg') no-repeat center center;\n",
    "            background-size: contain;\n",
    "        }}\n",
    "        #Text {{\n",
    "            width: 100%;\n",
    "            height: 30%;\n",
    "            overflow-y: scroll;\n",
    "        }}\n",
    "    </style>\n",
    "</head>\n",
    "<body>\n",
    "    <div id=\"Image\"></div>\n",
    "    <div id=\"Text\">Scrolling Text Content Here</div>\n",
    "</body>\n",
    "</html>\n",
    "\"\"\"\n",
    "\n",
    "# Save the HTML file\n",
    "with open(\"smil_render.html\", \"w\") as file:\n",
    "    file.write(html_content)\n",
    "\n",
    "# Open the HTML file in the browser\n",
    "os.system(\"start smil_render.html\")  # Windows\n",
    "# os.system(\"open smil_render.html\")  # macOS\n",
    "# os.system(\"xdg-open smil_render.html\")  # Linux"
   ]
  },
  {
   "cell_type": "code",
   "execution_count": 1,
   "metadata": {},
   "outputs": [
    {
     "name": "stdout",
     "output_type": "stream",
     "text": [
      "c:\\Users\\Ritesh Singh\\Desktop\\ADVANCE PYTHON\\repository\\run new file\n"
     ]
    }
   ],
   "source": [
    "import os\n",
    "print(os.getcwd())\n"
   ]
  },
  {
   "cell_type": "code",
   "execution_count": 3,
   "metadata": {},
   "outputs": [
    {
     "data": {
      "text/plain": [
       "0"
      ]
     },
     "execution_count": 3,
     "metadata": {},
     "output_type": "execute_result"
    }
   ],
   "source": [
    "os.system(\"start smil_render.html\")"
   ]
  },
  {
   "cell_type": "code",
   "execution_count": 5,
   "metadata": {},
   "outputs": [
    {
     "data": {
      "text/html": [
       "\n",
       "<smil>\n",
       "<head>\n",
       "<layout>\n",
       " <root-layout/>\n",
       "<region id=\"Text\" top=\"70%\" left=\"0%\" height=\"30%\" width=\"100%\" fit=\"scroll\"/>\n",
       "<region id=\"Image\" top=\"0%\" left=\"0%\" height=\"70%\" width=\"100%\" fit=\"meet\"/>\n",
       "</layout>\n",
       "</head>\n",
       "<body>\n",
       "<par dur=\"10s\">\n",
       "<img src=\"handwriti.jpg\" region=\"Image\"/>\n",
       "<text src=\"content.txt\" region=\"Text\"/>\n",
       "</par>\n",
       "</body>\n",
       "</smil>\n"
      ],
      "text/plain": [
       "<IPython.core.display.HTML object>"
      ]
     },
     "execution_count": 5,
     "metadata": {},
     "output_type": "execute_result"
    }
   ],
   "source": [
    "smil_content = '''\n",
    "<smil>\n",
    "<head>\n",
    "<layout>\n",
    " <root-layout/>\n",
    "<region id=\"Text\" top=\"70%\" left=\"0%\" height=\"30%\" width=\"100%\" fit=\"scroll\"/>\n",
    "<region id=\"Image\" top=\"0%\" left=\"0%\" height=\"70%\" width=\"100%\" fit=\"meet\"/>\n",
    "</layout>\n",
    "</head>\n",
    "<body>\n",
    "<par dur=\"10s\">\n",
    "<img src=\"handwriti.jpg\" region=\"Image\"/>\n",
    "<text src=\"content.txt\" region=\"Text\"/>\n",
    "</par>\n",
    "</body>\n",
    "</smil>\n",
    "'''\n",
    "\n",
    "with open(\"content.txt\", \"w\") as f:\n",
    "    f.write(\"This is the scrolling text content that will be displayed in the bottom 30% of the screen.\\nIt can include multiple lines and paragraphs.\")\n",
    "\n",
    "from IPython.display import HTML\n",
    "HTML(smil_content)\n"
   ]
  },
  {
   "cell_type": "code",
   "execution_count": null,
   "metadata": {},
   "outputs": [],
   "source": []
  }
 ],
 "metadata": {
  "kernelspec": {
   "display_name": "venv",
   "language": "python",
   "name": "python3"
  },
  "language_info": {
   "codemirror_mode": {
    "name": "ipython",
    "version": 3
   },
   "file_extension": ".py",
   "mimetype": "text/x-python",
   "name": "python",
   "nbconvert_exporter": "python",
   "pygments_lexer": "ipython3",
   "version": "3.12.4"
  }
 },
 "nbformat": 4,
 "nbformat_minor": 2
}
